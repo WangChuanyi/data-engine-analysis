{
 "cells": [
  {
   "cell_type": "code",
   "execution_count": 55,
   "metadata": {},
   "outputs": [
    {
     "name": "stderr",
     "output_type": "stream",
     "text": [
      "C:\\Users\\wangcy\\anaconda3\\lib\\site-packages\\ipykernel_launcher.py:25: SettingWithCopyWarning: \n",
      "A value is trying to be set on a copy of a slice from a DataFrame.\n",
      "Try using .loc[row_indexer,col_indexer] = value instead\n",
      "\n",
      "See the caveats in the documentation: https://pandas.pydata.org/pandas-docs/stable/user_guide/indexing.html#returning-a-view-versus-a-copy\n"
     ]
    },
    {
     "data": {
      "image/png": "[encoded data removed]",
      "text/plain": [
       "<Figure size 432x288 with 1 Axes>"
      ]
     },
     "metadata": {
      "needs_background": "light"
     },
     "output_type": "display_data"
    },
    {
     "data": {
      "image/png": "[encoded data removed]",
      "text/plain": [
       "<Figure size 432x288 with 1 Axes>"
      ]
     },
     "metadata": {
      "needs_background": "light"
     },
     "output_type": "display_data"
    },
    {
     "name": "stdout",
     "output_type": "stream",
     "text": [
      "volkswagen 1131 deluxe sedan的竞品如下:\n",
      "['audi fox', 'renault 5 gtl', 'saab 99e']\n",
      "volkswagen model 111的竞品如下:\n",
      "['mazda glc deluxe', 'mazda rx-7 gs', 'toyota corona', 'toyota corolla']\n",
      "volkswagen type 3的竞品如下:\n",
      "['audi 100 ls']\n",
      "volkswagen 411 (sw)的竞品如下:\n",
      "['audi 100 ls']\n",
      "volkswagen super beetle的竞品如下:\n",
      "['toyota celica gt']\n",
      "volkswagen dasher的竞品如下:\n",
      "['audi 100 ls']\n",
      "vw dasher的竞品如下:\n",
      "['audi fox', 'renault 5 gtl', 'saab 99e']\n",
      "vw rabbit的竞品如下:\n",
      "['audi fox', 'renault 5 gtl', 'saab 99e']\n",
      "volkswagen rabbit的竞品如下:\n",
      "['honda civic', 'mitsubishi mirage g4', 'renault 12tl', 'subaru baja', 'subaru tribeca']\n",
      "volkswagen rabbit custom的竞品如下:\n",
      "['toyota celica gt']\n",
      "volkswagen dasher的竞品如下:\n",
      "['honda civic', 'mitsubishi mirage g4', 'renault 12tl', 'subaru baja', 'subaru tribeca']\n"
     ]
    }
   ],
   "source": [
    "# 使用KMeans进行聚类\n",
    "from sklearn.cluster import KMeans\n",
    "from sklearn import preprocessing\n",
    "import pandas as pd\n",
    "import numpy as np\n",
    "\n",
    "# 数据加载\n",
    "data = pd.read_csv('CarPrice_Assignment.csv',encoding='gbk')\n",
    "# print(data)\n",
    "\n",
    "train_x = data[[\"symboling\",\"fueltype\",\"aspiration\",\"doornumber\",\n",
    "                \"carbody\",\"drivewheel\",\"enginelocation\",\"wheelbase\",\n",
    "                \"carlength\",\"carwidth\",\"carheight\",\"curbweight\",\n",
    "                \"enginetype\",\"cylindernumber\",\"enginesize\",\"fuelsystem\",\n",
    "                \"boreratio\",\"stroke\",\"compressionratio\",\"horsepower\"\n",
    "                ,\"peakrpm\",\"citympg\",\"highwaympg\",\"price\"]]\n",
    "# print(train_x)\n",
    "\n",
    "# LabelEncoder 将Categorical类数据转换为数值\n",
    "from sklearn.preprocessing import LabelEncoder\n",
    "le = LabelEncoder()\n",
    "Categorical_data = [\"fueltype\",\"aspiration\",\"doornumber\",\"carbody\",\"drivewheel\",\"enginelocation\",\"enginetype\",\"cylindernumber\",\"fuelsystem\"]\n",
    "for item in Categorical_data:\n",
    "    # print(item)\n",
    "    train_x[item] = le.fit_transform(train_x[item])\n",
    "# print(train_x)\n",
    "\n",
    "# 规范化到 [0,1] 空间\n",
    "min_max_scaler=preprocessing.MinMaxScaler()\n",
    "train_x=min_max_scaler.fit_transform(train_x)\n",
    "pd.DataFrame(train_x).to_csv('temp.csv', index=False)\n",
    "# print(train_x)\n",
    "\n",
    "\n",
    "# K-Means 手肘法：统计不同K取值的误差平方和\n",
    "import matplotlib.pyplot as plt\n",
    "sse = []\n",
    "for k in range(1, 50):\n",
    "\t# kmeans算法\n",
    "\tkmeans = KMeans(n_clusters=k)\n",
    "\tkmeans.fit(train_x)\n",
    "\t# 计算inertia簇内误差平方和\n",
    "\tsse.append(kmeans.inertia_)\n",
    "x = range(1, 50)\n",
    "plt.xlabel('K')\n",
    "plt.ylabel('SSE')\n",
    "plt.plot(x, sse, 'o-')\n",
    "plt.show()\n",
    "\n",
    "### 使用层次聚类\n",
    "from scipy.cluster.hierarchy import dendrogram, ward\n",
    "from sklearn.cluster import KMeans, AgglomerativeClustering\n",
    "import matplotlib.pyplot as plt\n",
    "model = AgglomerativeClustering(linkage='ward', n_clusters=25)\n",
    "y = model.fit_predict(train_x)\n",
    "linkage_matrix = ward(train_x)\n",
    "dendrogram(linkage_matrix)\n",
    "plt.savefig(\"CarPrice_Assignment_cluster_result.png\", dpi=750, bbox_inches = 'tight')\n",
    "plt.show()\n",
    "\n",
    "\n",
    "# 使用KMeans聚类，根据手肘法，选取50组分类较为合适\n",
    "kmeans = KMeans(n_clusters=50)\n",
    "kmeans.fit(train_x)\n",
    "predict_y = kmeans.predict(train_x)\n",
    "predict_y = pd.DataFrame(predict_y)\n",
    "# print(predict_y)\n",
    "# 合并聚类结果，插入到原数据中\n",
    "result = pd.concat([data, predict_y],axis=1)\n",
    "result.rename({0:u'聚类结果'},axis=1,inplace=True)\n",
    "\n",
    "# 将vokswagen汽车的相应竞品找出\n",
    "for i in range(len(result)):\n",
    "    # 如果CarName包含'volkswagen'，则识别为大众汽车产品\n",
    "    if 'volkswagen' in result.iloc[i]['CarName']:\n",
    "        kmeans_index = result.iloc[i]['聚类结果']\n",
    "        comp = []\n",
    "        for j in range(len(result)):\n",
    "            # 取聚类结果与大众汽车产品相同的非大众汽车产品集合\n",
    "            if result.iloc[j]['聚类结果'] == kmeans_index:\n",
    "                if 'volkswagen' in result.iloc[j]['CarName']:\n",
    "                    continue\n",
    "                if 'vw' in result.iloc[j]['CarName']:\n",
    "                    continue\n",
    "                else:\n",
    "                    comp.append(str(result.iloc[j]['CarName']))\n",
    "            else:\n",
    "                continue\n",
    "        print(result.iloc[i]['CarName']+'的竞品如下:')\n",
    "        print(comp)\n",
    "    # 如果CarName包含'vw'，则识别为大众汽车产品\n",
    "    elif 'vw' in result.iloc[i]['CarName']:\n",
    "        kmeans_index = result.iloc[i]['聚类结果']\n",
    "        comp = []\n",
    "        for j in range(len(result)):\n",
    "            # 取聚类结果与大众汽车产品相同的非大众汽车产品集合\n",
    "            if result.iloc[j]['聚类结果'] == kmeans_index:\n",
    "                if 'volkswagen' in result.iloc[j]['CarName']:\n",
    "                    continue\n",
    "                if 'vw' in result.iloc[j]['CarName']:\n",
    "                    continue\n",
    "                else:\n",
    "                    comp.append(str(result.iloc[j]['CarName']))\n",
    "            else:\n",
    "                continue\n",
    "        print(result.iloc[i]['CarName']+'的竞品如下:')\n",
    "        print(comp)\n",
    "    else:\n",
    "        continue\n",
    "\n",
    "# 将结果导出到CSV文件中\n",
    "result.to_csv(\"CarPrice_Assignment_cluster_result.csv\",index=False)\n"
   ]
  },
  {
   "cell_type": "code",
   "execution_count": null,
   "metadata": {},
   "outputs": [],
   "source": []
  },
  {
   "cell_type": "code",
   "execution_count": null,
   "metadata": {},
   "outputs": [],
   "source": []
  },
  {
   "cell_type": "code",
   "execution_count": null,
   "metadata": {},
   "outputs": [],
   "source": []
  }
 ],
 "metadata": {
  "kernelspec": {
   "display_name": "Python 3",
   "language": "python",
   "name": "python3"
  },
  "language_info": {
   "codemirror_mode": {
    "name": "ipython",
    "version": 3
   },
   "file_extension": ".py",
   "mimetype": "text/x-python",
   "name": "python",
   "nbconvert_exporter": "python",
   "pygments_lexer": "ipython3",
   "version": "3.7.6"
  }
 },
 "nbformat": 4,
 "nbformat_minor": 4
}
